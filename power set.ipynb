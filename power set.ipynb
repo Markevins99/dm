{
 "cells": [
  {
   "cell_type": "code",
   "execution_count": 2,
   "id": "a11da4c2",
   "metadata": {},
   "outputs": [
    {
     "name": "stdout",
     "output_type": "stream",
     "text": [
      "Enter the set elements separated by spaces: 1 2 3\n",
      "Power set of {'3', '2', '1'} is:\n",
      "[]\n",
      "['3']\n",
      "['2']\n",
      "['3', '2']\n",
      "['1']\n",
      "['3', '1']\n",
      "['2', '1']\n",
      "['3', '2', '1']\n"
     ]
    }
   ],
   "source": [
    "def power_set(input_set):\n",
    "\n",
    "    result = [[]]\n",
    "    \n",
    "  \n",
    "    for elem in input_set:\n",
    "      \n",
    "        for subset in result[:]:\n",
    "            \n",
    "            result.append(subset + [elem])\n",
    "    \n",
    "    return result\n",
    "\n",
    "\n",
    "input_set = set(input(\"Enter the set elements separated by spaces: \").split())\n",
    "\n",
    "\n",
    "output_set = power_set(input_set)\n",
    "\n",
    "\n",
    "print(\"Power set of\", input_set, \"is:\")\n",
    "for subset in output_set:\n",
    "    print(subset)\n"
   ]
  },
  {
   "cell_type": "code",
   "execution_count": null,
   "id": "b9b66fab",
   "metadata": {},
   "outputs": [],
   "source": []
  }
 ],
 "metadata": {
  "kernelspec": {
   "display_name": "Python 3 (ipykernel)",
   "language": "python",
   "name": "python3"
  },
  "language_info": {
   "codemirror_mode": {
    "name": "ipython",
    "version": 3
   },
   "file_extension": ".py",
   "mimetype": "text/x-python",
   "name": "python",
   "nbconvert_exporter": "python",
   "pygments_lexer": "ipython3",
   "version": "3.10.6"
  }
 },
 "nbformat": 4,
 "nbformat_minor": 5
}
