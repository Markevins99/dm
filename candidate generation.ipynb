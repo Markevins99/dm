{
 "cells": [
  {
   "cell_type": "code",
   "execution_count": 7,
   "id": "88a44700",
   "metadata": {},
   "outputs": [
    {
     "name": "stdout",
     "output_type": "stream",
     "text": [
      "Enter the minimum support: 2\n",
      "Enter the number of items: 3\n",
      "Enter transaction 1: 1 2 3 4 5\n",
      "Enter transaction 2: 4 5 \n",
      "Enter transaction 3: 1 2 3 4 \n",
      "Frequent itemsets of size 2:\n",
      "[[1, 2], [1, 3], [2, 3]]\n",
      "\n",
      "Frequent itemsets of size 3:\n",
      "[[1, 2, 3]]\n",
      "\n",
      "Frequent itemsets of size 4:\n",
      "[]\n",
      "\n"
     ]
    }
   ],
   "source": [
    "def generate_candidates(itemsets, k):\n",
    "    return [sorted(set(itemsets[i]).union(set(itemsets[j])))\n",
    "            for i in range(len(itemsets))\n",
    "            for j in range(i + 1, len(itemsets))\n",
    "            if itemsets[i][:k - 1] == itemsets[j][:k - 1]]\n",
    "\n",
    "min_support = int(input(\"Enter the minimum support: \"))\n",
    "num_items = int(input(\"Enter the number of items: \"))\n",
    "transactions = [list(map(int, input(f\"Enter transaction {i+1}: \").split())) for i in range(num_items)]\n",
    "frequent_itemsets = [[item] for item in range(1, num_items+1)]\n",
    "\n",
    "k = 2\n",
    "while frequent_itemsets:\n",
    "    candidates = generate_candidates(frequent_itemsets, k - 1)\n",
    "    candidate_support = [sum(1 for t in transactions if set(c).issubset(set(t))) for c in candidates]\n",
    "    frequent_itemsets = [candidates[i] for i in range(len(candidates)) if candidate_support[i] >= min_support]\n",
    "    print(f\"Frequent itemsets of size {k}:\")\n",
    "    print(frequent_itemsets)\n",
    "    print()\n",
    "    k += 1\n"
   ]
  },
  {
   "cell_type": "code",
   "execution_count": null,
   "id": "e05e0de2",
   "metadata": {},
   "outputs": [],
   "source": []
  }
 ],
 "metadata": {
  "kernelspec": {
   "display_name": "Python 3 (ipykernel)",
   "language": "python",
   "name": "python3"
  },
  "language_info": {
   "codemirror_mode": {
    "name": "ipython",
    "version": 3
   },
   "file_extension": ".py",
   "mimetype": "text/x-python",
   "name": "python",
   "nbconvert_exporter": "python",
   "pygments_lexer": "ipython3",
   "version": "3.10.6"
  }
 },
 "nbformat": 4,
 "nbformat_minor": 5
}
