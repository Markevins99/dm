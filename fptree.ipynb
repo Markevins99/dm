{
 "cells": [
  {
   "cell_type": "code",
   "execution_count": 3,
   "id": "d752fb88",
   "metadata": {},
   "outputs": [
    {
     "name": "stdout",
     "output_type": "stream",
     "text": [
      "frequent itemsets\n",
      "{('1',): 6, ('1', '2'): 4, ('1', '3'): 3, ('1', '2', '3'): 2, ('2', '3'): 4, ('3', '4'): 3, ('2', '3', '4'): 2, ('1', '4'): 3, ('1', '3', '4'): 1, ('1', '2', '4'): 2, ('1', '2', '3', '4'): 1, ('2', '4'): 4, ('2',): 7}\n",
      "rules\n",
      "{('1',): (('4',), 0.5), ('2',): (('4',), 0.5714285714285714), ('1', '2'): (('4',), 0.5), ('1', '3'): (('2',), 0.6666666666666666), ('2', '3'): (('4',), 0.5), ('2', '4'): (('1',), 0.5), ('3', '4'): (('2',), 0.6666666666666666), ('1', '4'): (('2',), 0.6666666666666666), ('1', '2', '3'): (('4',), 0.5), ('1', '2', '4'): (('3',), 0.5), ('1', '3', '4'): (('2',), 1.0), ('2', '3', '4'): (('1',), 0.5)}\n"
     ]
    }
   ],
   "source": [
    "import pandas as pd\n",
    "import pyfpgrowth\n",
    "\n",
    "df = pd.read_csv('transactionsint.csv')\n",
    "\n",
    "transactions = df['Items Purchased'].str.split(',')\n",
    "\n",
    "FrequentPatterns = pyfpgrowth.find_frequent_patterns(transactions=transactions, support_threshold=0.5)\n",
    "\n",
    "Rules = pyfpgrowth.generate_association_rules(patterns=FrequentPatterns, confidence_threshold=0.5)\n",
    "print('frequent itemsets')\n",
    "print(FrequentPatterns)\n",
    "print('rules')\n",
    "print(Rules)\n"
   ]
  },
  {
   "cell_type": "code",
   "execution_count": 31,
   "id": "7d9f66fd",
   "metadata": {},
   "outputs": [],
   "source": [
    "#dont run this\n",
    "\"\"\"\"\"\n",
    "import csv\n",
    "\n",
    "transactions = [\n",
    "    ['Milk', 'Bread', 'Saffron'],\n",
    "    ['Milk', 'Saffron'],\n",
    "    ['Bread', 'Saffron', 'Wafer'],\n",
    "    ['Bread', 'Wafer'],\n",
    "]\n",
    "\n",
    "with open('transaction_table.csv', mode='w', newline='') as csv_file:\n",
    "    writer = csv.writer(csv_file)\n",
    "    for transaction in transactions:\n",
    "        writer.writerow(transaction)\n",
    "\"\"\"\""
   ]
  },
  {
   "cell_type": "code",
   "execution_count": 41,
   "id": "ebede6c2",
   "metadata": {},
   "outputs": [],
   "source": [
    "import csv\n",
    "\n",
    "transactions = [\n",
    "    ['Milk', 'Bread', 'Saffron'],\n",
    "    ['Milk', 'Saffron'],\n",
    "    ['Bread', 'Saffron', 'Wafer'],\n",
    "    ['Bread', 'Wafer'],['Milk','Wafer'],['Saffron','Wafer']\n",
    "]\n",
    "\n",
    "with open('transaction_table.csv', mode='w', newline='') as csv_file:\n",
    "    writer = csv.writer(csv_file)\n",
    "    for transaction in transactions:\n",
    "        writer.writerow(transaction)\n"
   ]
  },
  {
   "cell_type": "code",
   "execution_count": 6,
   "id": "6ff8dc29",
   "metadata": {},
   "outputs": [
    {
     "name": "stdout",
     "output_type": "stream",
     "text": [
      "{('1,2,3,4',): 1, ('1', '1,2,3,4'): 1, ('1,2,3',): 1, ('1,2,3', '2'): 1, ('1,2,4',): 1, ('1,2,4', '3'): 1, ('1,2',): 1, ('1,2', '4'): 1, ('5',): 1, ('2,3,4',): 1, ('2,3,4', '5'): 1, ('6',): 1, ('2,3',): 1, ('2,3', '6'): 1, ('7',): 1, ('2,4',): 1, ('2,4', '7'): 1, ('8',): 1, ('1,3',): 1, ('1,3', '8'): 1, ('9',): 1, ('1,4',): 1, ('1,4', '9'): 1, ('10',): 1, ('3,4',): 1, ('10', '3,4'): 1, ('1',): 19, ('1', '2'): 12, ('1', '3'): 9, ('1', '2', '3'): 6, ('2', '3'): 12, ('3', '4'): 9, ('2', '3', '4'): 6, ('1', '4'): 9, ('1', '3', '4'): 3, ('1', '2', '4'): 6, ('1', '2', '3', '4'): 3, ('2', '4'): 12, ('2',): 22}\n",
      "{('1,2,3,4',): (('1',), 1.0), ('1,2,3',): (('2',), 1.0), ('1,2,4',): (('3',), 1.0), ('1,2',): (('4',), 1.0), ('2,3,4',): (('5',), 1.0), ('5',): (('2,3,4',), 1.0), ('2,3',): (('6',), 1.0), ('6',): (('2,3',), 1.0), ('2,4',): (('7',), 1.0), ('7',): (('2,4',), 1.0), ('1,3',): (('8',), 1.0), ('8',): (('1,3',), 1.0), ('1,4',): (('9',), 1.0), ('9',): (('1,4',), 1.0), ('10',): (('3,4',), 1.0), ('3,4',): (('10',), 1.0), ('1',): (('2',), 0.631578947368421), ('2',): (('4',), 0.5454545454545454), ('1', '2'): (('4',), 0.5), ('1', '3'): (('2',), 0.6666666666666666), ('2', '3'): (('4',), 0.5), ('2', '4'): (('1',), 0.5), ('3', '4'): (('2',), 0.6666666666666666), ('1', '4'): (('2',), 0.6666666666666666), ('1', '2', '3'): (('4',), 0.5), ('1', '2', '4'): (('3',), 0.5), ('1', '3', '4'): (('2',), 1.0), ('2', '3', '4'): (('1',), 0.5)}\n"
     ]
    }
   ],
   "source": [
    "import csv\n",
    "import pyfpgrowth\n",
    "\n",
    "transactions = []\n",
    "with open('transactionsint.csv', mode='r') as csv_file:\n",
    "    reader = csv.reader(csv_file)\n",
    "    next(reader)  # skip header row\n",
    "    for row in reader:\n",
    "        transactions.append(row[1].split(','))\n",
    "\n",
    "FrequentPatterns = pyfpgrowth.find_frequent_patterns(transactions=transactions, support_threshold=0.5)\n",
    "print(FrequentPatterns)\n",
    "\n",
    "Rules = pyfpgrowth.generate_association_rules(patterns=FrequentPatterns, confidence_threshold=0.5)\n",
    "print(Rules)\n"
   ]
  },
  {
   "cell_type": "code",
   "execution_count": null,
   "id": "de5df732",
   "metadata": {},
   "outputs": [],
   "source": []
  }
 ],
 "metadata": {
  "kernelspec": {
   "display_name": "Python 3 (ipykernel)",
   "language": "python",
   "name": "python3"
  },
  "language_info": {
   "codemirror_mode": {
    "name": "ipython",
    "version": 3
   },
   "file_extension": ".py",
   "mimetype": "text/x-python",
   "name": "python",
   "nbconvert_exporter": "python",
   "pygments_lexer": "ipython3",
   "version": "3.10.6"
  }
 },
 "nbformat": 4,
 "nbformat_minor": 5
}
